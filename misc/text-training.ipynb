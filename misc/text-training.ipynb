{
 "cells": [
  {
   "cell_type": "code",
   "execution_count": 1,
   "metadata": {
    "collapsed": false
   },
   "outputs": [
    {
     "name": "stdout",
     "output_type": "stream",
     "text": [
      "Populating the interactive namespace from numpy and matplotlib\n"
     ]
    }
   ],
   "source": [
    "%pylab inline"
   ]
  },
  {
   "cell_type": "code",
   "execution_count": 2,
   "metadata": {
    "collapsed": false
   },
   "outputs": [
    {
     "name": "stdout",
     "output_type": "stream",
     "text": [
      "using existing won-raw.txt\n"
     ]
    }
   ],
   "source": [
    "%%bash\n",
    "if test -f won-raw.txt; then\n",
    "    echo using existing won-raw.txt\n",
    "else\n",
    "    curl http://www.gutenberg.org/cache/epub/3300/pg3300.txt | \n",
    "        sed 's/\\r//'  |\n",
    "        sed 's/^ *//;s/ *$//' |\n",
    "        grep -v '   ' |\n",
    "        sed 's/  */ /g' > won-raw.txt\n",
    "    sed 5q won-raw.txt\n",
    "fi"
   ]
  },
  {
   "cell_type": "code",
   "execution_count": 3,
   "metadata": {
    "collapsed": false
   },
   "outputs": [
    {
     "name": "stdout",
     "output_type": "stream",
     "text": [
      "Company of Merchants trading to the East Indies. Into this act it was\r\n",
      "of ten millions is in Great Britain. In 1765 and 1766, the whole revenue\r\n",
      "this occasion that the sum which the bank had advanced to the public,\r\n",
      "the same, after such improvements, as before. It should, however, in the\r\n",
      "relations, whom they are not always very fond of acknowledging, they\r\n"
     ]
    }
   ],
   "source": [
    "!awk 'length()>10' won-raw.txt | sort -R > won.txt\n",
    "!sed 5q won.txt"
   ]
  },
  {
   "cell_type": "code",
   "execution_count": 4,
   "metadata": {
    "collapsed": false
   },
   "outputs": [],
   "source": [
    "!sed 's/ //g' < won.txt > won-nospc.txt\n",
    "!paste won-nospc.txt won.txt > won-all.txt"
   ]
  },
  {
   "cell_type": "code",
   "execution_count": null,
   "metadata": {
    "collapsed": false
   },
   "outputs": [
    {
     "name": "stdout",
     "output_type": "stream",
     "text": [
      "   32543 won-all.txt\n",
      "   32543 won-nospc.txt\n",
      "   35224 won-raw.txt\n",
      "    3254 won-test.txt\n",
      "   29289 won-train.txt\n",
      "  132853 total\n",
      "suchmoneycanatanytimebehadforthem.\tsuch money can at any time be had for them.\n",
      "time,amountingto£46,954,623:3:47/12.\ttime, amounting to £46,954,623:3:4 7/12.\n",
      "INTRODUCTIONANDPLANOFTHEWORK.\tINTRODUCTION AND PLAN OF THE WORK.\n",
      "thefreecompetitionofallothernations.\tthe free competition of all other nations.\n",
      "ofthemareabsurdandfoolish.\tof them are absurd and foolish.\n",
      "wasthenearesttothetruth.\twas the nearest to the truth.\n",
      "ofthemostpopulous.\tof the most populous.\n",
      "theirparticulartrades.\ttheir particular trades.\n",
      "Butabarrelofsea-sticks\tBut a barrel of sea-sticks\n",
      "displeasure.\tdispleasure.\n",
      "awk: write failure (Broken pipe)\n",
      "awk: close failed on file /dev/stdout (Broken pipe)\n"
     ]
    }
   ],
   "source": [
    "!awk 'NR%10==0' < won-all.txt > won-test.txt\n",
    "!awk 'NR%10!=0' < won-all.txt > won-train.txt\n",
    "!wc -l won-*.txt\n",
    "!awk 'length()<80' won-train.txt | sed 10q"
   ]
  },
  {
   "cell_type": "code",
   "execution_count": null,
   "metadata": {
    "collapsed": false
   },
   "outputs": [
    {
     "name": "stdout",
     "output_type": "stream",
     "text": [
      "#: mode = train\n",
      "#: seed = 0\n",
      "got 29289 lines\n",
      "#: load = \n",
      "#: save_every = 0\n",
      "#: save_name = addspaces\n",
      "#: after_save = \n",
      "#: ntrain = 100000\n",
      "#: lrate = 0.001\n",
      "#: nhidden = 30\n",
      "#: display_every = 0\n",
      "#: report_every = 1000\n",
      "#: randomize = 1\n",
      "#: lrnorm = batch\n",
      "#: lstm = BIDILSTM\n",
      "#: lstm_type = LSTM\n",
      "#: output_type = SoftmaxLayer\n",
      "#: testset = won-test.txt\n",
      "#: test_every = 5000\n",
      "#: after_test = \n",
      "params hg_version c45a6ffebac6 lrate 0.001 nhidden 30 nhidden2 -1 batch 1 momentum 0.9\n",
      "codec 91 icodec 90\n",
      "#: start = -1\n",
      "trial 0\n",
      "INP: 'Somelandlords,insteadofarentinmoney,requirearentinkind,in'\n",
      "TRU: 'Some landlords, instead of a rent in money, require a rent in kind, in'\n",
      "OUT: ''\n",
      "ALN: ''\n",
      "70\n",
      "trial 1000\n",
      "INP: 'neighbourhoodofLondon,whichrequiretobesuppliedfromthegreatest'\n",
      "TRU: 'neighbourhood of London, which require to be supplied from the greatest'\n",
      "OUT: ''\n",
      "ALN: ''\n",
      "71\n",
      "trial 2000\n",
      "INP: 'Thatthevineyard,whenproperlyplantedandbroughttoperfection,'\n",
      "TRU: 'That the vineyard, when properly planted and brought to perfection,'\n",
      "OUT: 'bhat theviney ard, whenproperly plantedand brought toperfection,'\n",
      "ALN: 'That the vineyard, when properly planted and brought to perfection,'\n",
      "6\n",
      "trial 3000\n",
      "INP: 'thancornorcattle.Itisinthefetchingandcarryingmanufactures,'\n",
      "TRU: 'than corn or cattle. It is in the fetching and carrying manufactures,'\n",
      "OUT: 'than cornorcattle. Itis in the fet ch ing and carry ingmanufactures,'\n",
      "ALN: 'than corn or cattle. It is in the fetching and carrying manufactures,'\n",
      "7\n",
      "trial 4000\n",
      "INP: 'stock,orthesumforwhichitpaidadividendtotheproprietorsof'\n",
      "TRU: 'stock, or the sum for which it paid a dividend to the proprietors of'\n",
      "OUT: 'stock, or the sumfor which it paid adividend to the proprie tors of'\n",
      "ALN: 'stock, or the sum for which it paid a dividend to the proprietors of'\n",
      "3\n",
      "#: maxeval = 1000\n",
      "TESTERR 295.371 addspaces.h5 5000 0.0736971 lrate 0.001 hidden 30 -1 batch 1 momentum 0.9\n",
      "saving addspaces.h5 at 0.0736971\n",
      "trial 5000\n",
      "INP: 'partoftheworkalwaysremainstobedonebyher.Thelabourersand'\n",
      "TRU: 'part of the work always remains to be done by her. The labourers and'\n",
      "OUT: 'part of the workal waysremains to bed one byher. The labourers and'\n",
      "ALN: 'part of the work always remains to be done by her. The labourers and'\n",
      "6\n",
      "trial 6000\n",
      "INP: 'indifferentlyeitherproductiveorunproductivehands.Thus,notonly'\n",
      "TRU: 'indifferently either productive or unproductive hands. Thus, not only'\n",
      "OUT: 'indifferently either productive orunproductive hands. Thus, notonly'\n",
      "ALN: 'indifferently either productive or unproductive hands. Thus, not only'\n",
      "2\n",
      "trial 7000\n",
      "INP: 'it.Theartizans,findingtheirprofitstorisebythefavouroftheir'\n",
      "TRU: 'it. The artizans, finding their profits to rise by the favour of their'\n",
      "OUT: 'it. The artiSans, finding their profits torise by the favour of their'\n",
      "ALN: 'it. The artizans, finding their profits to rise by the favour of their'\n",
      "2\n",
      "trial 8000\n",
      "INP: 'maynot,accordingtodifferentcircumstances.'\n",
      "TRU: 'may not, according to different circumstances.'\n",
      "OUT: 'maynot, according to different circumstance s.'\n",
      "ALN: 'may not, according to different circumstances.'\n",
      "2\n",
      "trial 9000\n",
      "INP: 'twentyshillingsa-yearforalicencetosellale;offortyshillings'\n",
      "TRU: 'twenty shillings a-year for a licence to sell ale; of forty shillings'\n",
      "OUT: 'twenty s hilling saqy ear foralice nce to sellale; of forty s hillings'\n",
      "ALN: 'twenty shillings a-year for a licence to sell ale; of forty shillings'\n",
      "10\n",
      "#: maxeval = 1000\n",
      "TESTERR 591.229 addspaces.h5 10000 0.05705 lrate 0.001 hidden 30 -1 batch 1 momentum 0.9\n",
      "saving addspaces.h5 at 0.05705\n",
      "trial 10000\n",
      "INP: 'employthemoneyborrowedinsoberundertakingswhichwereproportioned'\n",
      "TRU: 'employ the money borrowed in sober undertakings which were proportioned'\n",
      "OUT: 'employ the money borrowed insoberundertakings which wereproportioned'\n",
      "ALN: 'employ the money borrowed in sober undertakings which were proportioned'\n",
      "3\n",
      "trial 11000\n",
      "INP: 'orsailors,andbytheprofitsofthemerchantswhoemploythem.Inwhat'\n",
      "TRU: 'or sailors, and by the profits of the merchants who employ them. In what'\n",
      "OUT: 'or sailors, and by the profits of the merchants whoemploy them. In what'\n",
      "ALN: 'or sailors, and by the profits of the merchants who employ them. In what'\n",
      "1\n",
      "trial 12000\n",
      "INP: 'haveit;buthisdemandisnotaneffectualdemand,asthecommoditycan'\n",
      "TRU: 'have it; but his demand is not an effectual demand, as the commodity can'\n",
      "OUT: 'have it; buthis demand is not aneffectual demand, as the commodity can'\n",
      "ALN: 'have it; but his demand is not an effectual demand, as the commodity can'\n",
      "2\n",
      "trial 13000\n",
      "INP: 'ajoint-stockcompany,onthecontrary,havingonlytheirsharein'\n",
      "TRU: 'a joint-stock company, on the contrary, having only their share in'\n",
      "OUT: 'a joint-stock company, on the contrary, having only their share in'\n",
      "ALN: 'a joint-stock company, on the contrary, having only their share in'\n",
      "0\n"
     ]
    }
   ],
   "source": [
    "!maxeval=1000 save_every=0 save_name=addspaces lrate=1e-3 nhidden=30 report_every=1000 \\\n",
    "test_every=5000 lstm=BIDILSTM testset=won-test.txt ntrain=100000 \\\n",
    "params=1 ../clstmtext won-train.txt"
   ]
  },
  {
   "cell_type": "code",
   "execution_count": null,
   "metadata": {
    "collapsed": true
   },
   "outputs": [],
   "source": []
  }
 ],
 "metadata": {
  "kernelspec": {
   "display_name": "Python 2",
   "language": "python",
   "name": "python2"
  },
  "language_info": {
   "codemirror_mode": {
    "name": "ipython",
    "version": 2
   },
   "file_extension": ".py",
   "mimetype": "text/x-python",
   "name": "python",
   "nbconvert_exporter": "python",
   "pygments_lexer": "ipython2",
   "version": "2.7.8"
  }
 },
 "nbformat": 4,
 "nbformat_minor": 0
}
