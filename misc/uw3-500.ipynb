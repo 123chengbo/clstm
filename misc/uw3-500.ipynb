{
 "cells": [
  {
   "cell_type": "code",
   "execution_count": 16,
   "metadata": {
    "collapsed": false
   },
   "outputs": [
    {
     "name": "stdout",
     "output_type": "stream",
     "text": [
      "Populating the interactive namespace from numpy and matplotlib\n"
     ]
    },
    {
     "name": "stderr",
     "output_type": "stream",
     "text": [
      "WARNING: pylab import has clobbered these variables: ['linalg', 'random', 'power', 'info', 'fft']\n",
      "`%matplotlib` prevents importing * from pylab and numpy\n"
     ]
    }
   ],
   "source": [
    "%pylab inline\n",
    "from pylab import *\n",
    "import h5py\n",
    "import codecs,string,os,sys,os.path,glob,re"
   ]
  },
  {
   "cell_type": "markdown",
   "metadata": {},
   "source": [
    "The CLSTM command line tools take their training data in HDF5 files (you will evenutally also be able to train directly from images saved on disk, as in ocropy, but that's not quite implemented yet). This illustrates how to store images into an HDF5 file and then how to run the `clstmctc` training tool on the data."
   ]
  },
  {
   "cell_type": "markdown",
   "metadata": {},
   "source": [
    "# The UW3-500 Dataset"
   ]
  },
  {
   "cell_type": "markdown",
   "metadata": {},
   "source": [
    "We illustrate loading data with the `uw3-500.tgz` dataset, available from `tmbdev.net`."
   ]
  },
  {
   "cell_type": "code",
   "execution_count": 17,
   "metadata": {
    "collapsed": false
   },
   "outputs": [],
   "source": [
    "!test -f uw3-500.tgz || wget -nd http://www.tmbdev.net/ocrdata/uw3-500.tgz"
   ]
  },
  {
   "cell_type": "markdown",
   "metadata": {},
   "source": [
    "Let's untar the file unless it has already been untarred."
   ]
  },
  {
   "cell_type": "code",
   "execution_count": 18,
   "metadata": {
    "collapsed": false
   },
   "outputs": [],
   "source": [
    "!test -d book || tar -zxvf uw3-500.tgz"
   ]
  },
  {
   "cell_type": "markdown",
   "metadata": {},
   "source": [
    "The UW3-500 dataset is a collection of text line images and corresponding ground truth transcription. It's organized as a directory tree of the form `book/<page_no>/<line_id>.bin.png` etc."
   ]
  },
  {
   "cell_type": "code",
   "execution_count": 19,
   "metadata": {
    "collapsed": false
   },
   "outputs": [
    {
     "name": "stdout",
     "output_type": "stream",
     "text": [
      "book/0005/010001.bin.png  book/0005/010001.gt.txt\r\n"
     ]
    }
   ],
   "source": [
    "!ls book/0005/010001.*"
   ]
  },
  {
   "cell_type": "markdown",
   "metadata": {},
   "source": [
    "# Codecs"
   ]
  },
  {
   "cell_type": "markdown",
   "metadata": {},
   "source": [
    "Let's start by computing the character set used by this training data."
   ]
  },
  {
   "cell_type": "code",
   "execution_count": 20,
   "metadata": {
    "collapsed": false
   },
   "outputs": [],
   "source": [
    "charset = set()\n",
    "for fname in glob.glob(\"book/*/*.txt\"):\n",
    "    with codecs.open(fname,\"r\",\"utf-8\") as stream:\n",
    "        chars = stream.read()\n",
    "    charset = charset.union(set(chars))"
   ]
  },
  {
   "cell_type": "markdown",
   "metadata": {},
   "source": [
    "We aren't recognizing newlines, but we need the NUL character for an epsilon transition during CTC training."
   ]
  },
  {
   "cell_type": "code",
   "execution_count": 21,
   "metadata": {
    "collapsed": false
   },
   "outputs": [],
   "source": [
    "charset.remove('\\n')\n",
    "charset.add('\\0')"
   ]
  },
  {
   "cell_type": "code",
   "execution_count": 22,
   "metadata": {
    "collapsed": false
   },
   "outputs": [
    {
     "name": "stdout",
     "output_type": "stream",
     "text": [
      "['\\x00', u' ', u'!', u'\"', u'$', u'%', u'&', u\"'\", u'(', u')', u',', u'-', u'.', u'/', u'0', u'1', u'2', u'3', u'4', u'5', u'6', u'7', u'8', u'9', u':', u';', u'<', u'=', u'A', u'B', u'C', u'D', u'E', u'F', u'G', u'H', u'I', u'J', u'K', u'L', u'M', u'N', u'O', u'P', u'Q', u'R', u'S', u'T', u'U', u'V', u'W', u'X', u'Y', u'Z', u'[', u']', u'`', u'a', u'b', u'c', u'd', u'e', u'f', u'g', u'h', u'i', u'j', u'k', u'l', u'm', u'n', u'o', u'p', u'q', u'r', u's', u't', u'u', u'v', u'w', u'x', u'y', u'z']\n"
     ]
    }
   ],
   "source": [
    "charset = sorted(list(charset))\n",
    "print charset"
   ]
  },
  {
   "cell_type": "markdown",
   "metadata": {},
   "source": [
    "In constructing the database, we store a codec; the codec maps class labels back to unicode codepoints."
   ]
  },
  {
   "cell_type": "code",
   "execution_count": 23,
   "metadata": {
    "collapsed": false
   },
   "outputs": [
    {
     "name": "stdout",
     "output_type": "stream",
     "text": [
      "[  0  32  33  34  36  37  38  39  40  41  44  45  46  47  48  49  50  51\n",
      "  52  53  54  55  56  57  58  59  60  61  65  66  67  68  69  70  71  72\n",
      "  73  74  75  76  77  78  79  80  81  82  83  84  85  86  87  88  89  90\n",
      "  91  93  96  97  98  99 100 101 102 103 104 105 106 107 108 109 110 111\n",
      " 112 113 114 115 116 117 118 119 120 121 122]\n"
     ]
    }
   ],
   "source": [
    "codec = array([ord(c) for c in charset],'i')\n",
    "encode = {c:i for i,c in enumerate(charset)}\n",
    "print codec"
   ]
  },
  {
   "cell_type": "markdown",
   "metadata": {},
   "source": [
    "# HDF5 Files"
   ]
  },
  {
   "cell_type": "markdown",
   "metadata": {},
   "source": [
    "We're using the `h5py` library to create and access HDF5 datafiles from Python. There is another library, `tables`, that you can also use."
   ]
  },
  {
   "cell_type": "code",
   "execution_count": 24,
   "metadata": {
    "collapsed": false
   },
   "outputs": [],
   "source": [
    "h5 = h5py.File(\"uw3-500.h5\", \"w\")"
   ]
  },
  {
   "cell_type": "markdown",
   "metadata": {},
   "source": [
    "Let's start by writing the codec; this is simply storing a fixed size array."
   ]
  },
  {
   "cell_type": "code",
   "execution_count": 25,
   "metadata": {
    "collapsed": false
   },
   "outputs": [],
   "source": [
    "h5.create_dataset(\"codec\", codec.shape, dtype=int)\n",
    "h5[\"codec\"][:] = codec"
   ]
  },
  {
   "cell_type": "markdown",
   "metadata": {},
   "source": [
    "Text line images and transcripts are variable length, so we need HDF5 variable length types. This is how that is done in h5py.\n",
    "\n",
    "Note that these types are not supported in older versions of `h5py`; the versions installed via `pip` seem to be up-to-date enough."
   ]
  },
  {
   "cell_type": "code",
   "execution_count": 26,
   "metadata": {
    "collapsed": false
   },
   "outputs": [],
   "source": [
    "vlen_int = h5py.special_dtype(vlen=np.dtype('int32'))\n",
    "vlen_float = h5py.special_dtype(vlen=np.dtype('float32'))\n",
    "vlen_str = h5py.special_dtype(vlen=str)"
   ]
  },
  {
   "cell_type": "markdown",
   "metadata": {},
   "source": [
    "The `images` dataset contains the image data, and the `images_dims` array contains the shape of those images (HDF5 doesn't have arrays of multidimensional variable-sized arrays, only arrays of variable-sized 1D arrays). If the images were all the same shape, we could simply store them as a resizable but otherwise rectangular array."
   ]
  },
  {
   "cell_type": "code",
   "execution_count": 27,
   "metadata": {
    "collapsed": false
   },
   "outputs": [],
   "source": [
    "images = h5.create_dataset(\"images\", (500,), maxshape=(None,), dtype=vlen_float)\n",
    "images_dims = h5.create_dataset(\"images_dims\", (500,2), maxshape=(None,2), dtype=int)"
   ]
  },
  {
   "cell_type": "markdown",
   "metadata": {},
   "source": [
    "The `transcripts` dataset contains integer arrays of class labels. Transcripts should never contain class `0` (which is reserved for epsilon in CTC). Since each transcript is just a 1D array, we need no separate `transcripts_dims` array."
   ]
  },
  {
   "cell_type": "code",
   "execution_count": 28,
   "metadata": {
    "collapsed": false
   },
   "outputs": [],
   "source": [
    "transcripts = h5.create_dataset(\"transcripts\", (500,), maxshape=(None,), dtype=vlen_int)"
   ]
  },
  {
   "cell_type": "markdown",
   "metadata": {},
   "source": [
    "The `keys` entry just holds information useful for identifying the source of training data."
   ]
  },
  {
   "cell_type": "code",
   "execution_count": 29,
   "metadata": {
    "collapsed": true
   },
   "outputs": [],
   "source": [
    "keys = h5.create_dataset(\"keys\", (500,), maxshape=(None,), dtype=vlen_str)"
   ]
  },
  {
   "cell_type": "markdown",
   "metadata": {},
   "source": [
    "Here is the data we store in the HDF5 file: the image and the transcripts."
   ]
  },
  {
   "cell_type": "code",
   "execution_count": 30,
   "metadata": {
    "collapsed": false
   },
   "outputs": [
    {
     "name": "stdout",
     "output_type": "stream",
     "text": [
      "performance analysis\n",
      "[72, 61, 74, 62, 71, 74, 69, 57, 70, 59, 61, 1, 57, 70, 57, 68, 81, 75, 65, 75]\n"
     ]
    },
    {
     "data": {
      "image/png": "[encoded data removed]",
      "text/plain": [
       "<matplotlib.figure.Figure at 0x7f45a0e01c10>"
      ]
     },
     "metadata": {},
     "output_type": "display_data"
    }
   ],
   "source": [
    "image = imread(\"book/0005/010001.bin.png\")\n",
    "image = 1-mean(image,2)\n",
    "with codecs.open(\"book/0005/010001.gt.txt\",\"r\",\"utf-8\") as stream: \n",
    "    gt = stream.read().strip()\n",
    "transcript = [encode[c] for c in gt]\n",
    "imshow(image,cmap=cm.gray)\n",
    "print gt\n",
    "print transcript"
   ]
  },
  {
   "cell_type": "markdown",
   "metadata": {},
   "source": [
    "Let's loop through the images we want to store. Note that store the _transpose_ of the image, since we want the sequence recognizer to step through the colums of the text line from left to right."
   ]
  },
  {
   "cell_type": "code",
   "execution_count": 31,
   "metadata": {
    "collapsed": false
   },
   "outputs": [
    {
     "name": "stdout",
     "output_type": "stream",
     "text": [
      "500\n"
     ]
    }
   ],
   "source": [
    "index = 0\n",
    "charset = set()\n",
    "for fname in sorted(glob.glob(\"book/*/*.bin.png\")):\n",
    "    gtname = re.sub(r'.bin.png$', '.gt.txt', fname)\n",
    "    with codecs.open(gtname,\"r\",\"utf-8\") as stream:\n",
    "        gt = stream.read().strip()\n",
    "    image = imread(fname)\n",
    "    image = 1-mean(image,2)\n",
    "    images[index] = image.T.ravel()\n",
    "    images_dims[index] = image.T.shape\n",
    "    transcript = [encode[c] for c in gt]\n",
    "    transcripts[index] = transcript\n",
    "    keys[index] = fname\n",
    "    index += 1\n",
    "print index"
   ]
  },
  {
   "cell_type": "markdown",
   "metadata": {},
   "source": [
    "That's it, we can close the dataset now."
   ]
  },
  {
   "cell_type": "code",
   "execution_count": 32,
   "metadata": {
    "collapsed": true
   },
   "outputs": [],
   "source": [
    "h5.close()"
   ]
  },
  {
   "cell_type": "markdown",
   "metadata": {},
   "source": [
    "There are a number of command line tools for checking our work."
   ]
  },
  {
   "cell_type": "code",
   "execution_count": 33,
   "metadata": {
    "collapsed": false
   },
   "outputs": [
    {
     "name": "stdout",
     "output_type": "stream",
     "text": [
      "codec                    Dataset {83}\r\n",
      "images                   Dataset {500/Inf}\r\n",
      "images_dims              Dataset {500/Inf, 2}\r\n",
      "keys                     Dataset {500/Inf}\r\n",
      "transcripts              Dataset {500/Inf}\r\n"
     ]
    }
   ],
   "source": [
    "!h5ls uw3-500.h5"
   ]
  },
  {
   "cell_type": "markdown",
   "metadata": {},
   "source": [
    "# Reading HDF5 Training Files"
   ]
  },
  {
   "cell_type": "markdown",
   "metadata": {},
   "source": [
    "The code below shows how to read the training files we created above."
   ]
  },
  {
   "cell_type": "code",
   "execution_count": 34,
   "metadata": {
    "collapsed": true
   },
   "outputs": [],
   "source": [
    "h5 = h5py.File(\"uw3-500.h5\", \"r\")"
   ]
  },
  {
   "cell_type": "code",
   "execution_count": 35,
   "metadata": {
    "collapsed": false
   },
   "outputs": [
    {
     "data": {
      "text/plain": [
       "<matplotlib.image.AxesImage at 0x7f45c8d1f050>"
      ]
     },
     "execution_count": 35,
     "metadata": {},
     "output_type": "execute_result"
    },
    {
     "data": {
      "image/png": "[encoded data removed]",
      "text/plain": [
       "<matplotlib.figure.Figure at 0x7f45c8e227d0>"
      ]
     },
     "metadata": {},
     "output_type": "display_data"
    }
   ],
   "source": [
    "imshow(h5[\"images\"][0].reshape(*h5[\"images_dims\"][0]).T,cmap=cm.gray)"
   ]
  },
  {
   "cell_type": "code",
   "execution_count": 36,
   "metadata": {
    "collapsed": false
   },
   "outputs": [
    {
     "name": "stdout",
     "output_type": "stream",
     "text": [
      "book/0005/010001.bin.png\n"
     ]
    }
   ],
   "source": [
    "print h5[\"keys\"][0]"
   ]
  },
  {
   "cell_type": "code",
   "execution_count": 37,
   "metadata": {
    "collapsed": false
   },
   "outputs": [
    {
     "name": "stdout",
     "output_type": "stream",
     "text": [
      "['p', 'e', 'r', 'f', 'o', 'r', 'm', 'a', 'n', 'c', 'e', ' ', 'a', 'n', 'a', 'l', 'y', 's', 'i', 's']\n"
     ]
    }
   ],
   "source": [
    "print [chr(h5[\"codec\"][x]) for x  in h5[\"transcripts\"][0]]"
   ]
  },
  {
   "cell_type": "code",
   "execution_count": 38,
   "metadata": {
    "collapsed": true
   },
   "outputs": [],
   "source": [
    "h5.close()"
   ]
  },
  {
   "cell_type": "markdown",
   "metadata": {},
   "source": [
    "# CLSTM training"
   ]
  },
  {
   "cell_type": "markdown",
   "metadata": {},
   "source": [
    "Let's build the CLSTM library and command line tools."
   ]
  },
  {
   "cell_type": "code",
   "execution_count": 39,
   "metadata": {
    "collapsed": false
   },
   "outputs": [
    {
     "name": "stdout",
     "output_type": "stream",
     "text": [
      "scons: Reading SConscript files ...\n",
      "scons: done reading SConscript files.\n",
      "scons: Building targets ...\n",
      "g++ --std=c++11 -Wno-unused-result -o clstm.o -c -g -O3 -finline -g -Dadd_raw=add -I/usr/include/eigen3 clstm.cc\n",
      "g++ --std=c++11 -Wno-unused-result -o clstmconv.o -c -g -O3 -finline -g -Dadd_raw=add -I/usr/include/eigen3 clstmconv.cc\n",
      "g++ --std=c++11 -Wno-unused-result -o extras.o -c -g -O3 -finline -g -Dadd_raw=add -I/usr/include/eigen3 extras.cc\n",
      "ar rc libclstm.a clstm.o extras.o\n",
      "ranlib libclstm.a\n",
      "g++ --std=c++11 -Wno-unused-result -o clstmconv clstmconv.o version.h libclstm.a -lhdf5_cpp -lhdf5 -lzmqpp -lzmq -lpng\n",
      "g++ --std=c++11 -Wno-unused-result -o clstmctc.o -c -g -O3 -finline -g -Dadd_raw=add -I/usr/include/eigen3 clstmctc.cc\n",
      "g++ --std=c++11 -Wno-unused-result -o clstmctc clstmctc.o version.h libclstm.a -lhdf5_cpp -lhdf5 -lzmqpp -lzmq -lpng\n",
      "g++ --std=c++11 -Wno-unused-result -o clstmimg.o -c -g -O3 -finline -g -Dadd_raw=add -I/usr/include/eigen3 clstmimg.cc\n",
      "g++ --std=c++11 -Wno-unused-result -o clstmimg clstmimg.o version.h libclstm.a -lhdf5_cpp -lhdf5 -lzmqpp -lzmq -lpng\n",
      "g++ --std=c++11 -Wno-unused-result -o clstmseq.o -c -g -O3 -finline -g -Dadd_raw=add -I/usr/include/eigen3 clstmseq.cc\n",
      "g++ --std=c++11 -Wno-unused-result -o clstmseq clstmseq.o version.h libclstm.a -lhdf5_cpp -lhdf5 -lzmqpp -lzmq -lpng\n",
      "g++ --std=c++11 -Wno-unused-result -o clstmtext.o -c -g -O3 -finline -g -Dadd_raw=add -I/usr/include/eigen3 clstmtext.cc\n",
      "g++ --std=c++11 -Wno-unused-result -o clstmtext clstmtext.o version.h libclstm.a -lhdf5_cpp -lhdf5 -lzmqpp -lzmq -lpng\n",
      "g++ --std=c++11 -Wno-unused-result -o test-batch.o -c -g -O3 -finline -g -Dadd_raw=add -I/usr/include/eigen3 test-batch.cc\n",
      "g++ --std=c++11 -Wno-unused-result -o test-batch test-batch.o version.h libclstm.a -lhdf5_cpp -lhdf5 -lzmqpp -lzmq -lpng\n",
      "scons: done building targets.\n"
     ]
    }
   ],
   "source": [
    "!(cd .. && scons)"
   ]
  },
  {
   "cell_type": "markdown",
   "metadata": {},
   "source": [
    "Let's now run `clstmctc` training. We report every 100 training steps. Since we didn't dewarp or size-normalize the lines, we need to use a `dewarp=center` argument to training."
   ]
  },
  {
   "cell_type": "code",
   "execution_count": 40,
   "metadata": {
    "collapsed": false
   },
   "outputs": [
    {
     "name": "stdout",
     "output_type": "stream",
     "text": [
      "params hg_version 8ac7c757624f+ lrate 0.0001 nhidden 100 nhidden2 -1 pseudo_batch 1 momentum 0.9 type BIDILSTM LSTM SoftmaxLayer\n",
      "center_normalizer 4 1 0.3\n",
      "dataset 500 48 center\n",
      "0 457 dim 143 48 time 0.00559688 lrate 0.0001 hidden 100 -1\n",
      "TRU: 'process.'\n",
      "OUT: ''\n",
      "ALN: ''\n",
      "8\n",
      "500 229 dim 831 48 time 184.305 lrate 0.0001 hidden 100 -1\n",
      "TRU: 'bearing, high-grade (low-pressure granulite fa-'\n",
      "OUT: '    a                     a                  a'\n",
      "ALN: 'eaariing, high-rade (low-pressure granulite fa-'\n",
      "42\n",
      "1000 247 dim 958 48 time 359.314 lrate 0.0001 hidden 100 -1\n",
      "TRU: 'knowledge encoded in them, and their use and re-use'\n",
      "OUT: ' ennen  ee neenneene ee  ant nennnanne t nennenennne neene'\n",
      "ALN: 'knnnowwwledgge enencoded inn them,  and thheir use and re-use'\n",
      "41\n",
      "1500 459 dim 834 48 time 542.169 lrate 0.0001 hidden 100 -1\n",
      "TRU: 'that the constraint does not support a pair of'\n",
      "OUT: 'thn ttheoonstnnintdoesnetsnnttcttannnno'\n",
      "ALN: 'thaatthe constraint doe  not uupport pairof'\n",
      "24\n",
      "2000 13 dim 156 48 time 716.686 lrate 0.0001 hidden 100 -1\n",
      "TRU: 'IV. Examples'\n",
      "OUT: 't  dweeeee '\n",
      "ALN: 'I. Emeeeeps'\n",
      "10\n",
      "2500 79 dim 714 48 time 887.71 lrate 0.0001 hidden 100 -1\n",
      "TRU: 'Where the ring has differentiated into'\n",
      "OUT: ' here the rin  ha differentiated into'\n",
      "ALN: 'WWhere the ring ha differentiated into'\n",
      "3\n",
      "3000 415 dim 1062 48 time 1055.29 lrate 0.0001 hidden 100 -1\n",
      "TRU: 'complete traversability map of the entire sensed area is not'\n",
      "OUT: 'eomplete traversabilityy map of the entire sensed area is not'\n",
      "ALN: 'complete traversability map of the entire sensed area is not'\n",
      "2\n",
      "3500 363 dim 983 48 time 1231.74 lrate 0.0001 hidden 100 -1\n",
      "TRU: 'The second part of the calibration procedure determines the'\n",
      "OUT: 'The second part of the calibration procedure determines the'\n",
      "ALN: 'The second part of the calibration procedure determines the'\n",
      "0\n",
      "4000 429 dim 469 48 time 1416.86 lrate 0.0001 hidden 100 -1\n",
      "TRU: 'Meeting, pages 931-935, 1986.'\n",
      "OUT: 'fee(ing pages 931-935, 19E-.'\n",
      "ALN: 'MMeeting, pages 931-935, 1986.'\n",
      "5\n",
      "4500 163 dim 391 48 time 1604.71 lrate 0.0001 hidden 100 -1\n",
      "TRU: 'ACKNOWLEDGEMENTS'\n",
      "OUT: 'aCBNowTERICERtERN1S'\n",
      "ALN: 'ACKNOWLEDGEMEENTS'\n",
      "12\n",
      "5000 101 dim 774 48 time 1770.58 lrate 0.0001 hidden 100 -1\n",
      "TRU: 'and (4) convenient to use, in the match-'\n",
      "OUT: 'and (-) convenient to use, in the match-'\n",
      "ALN: 'and (4) convenient to use, in the match-'\n",
      "1\n",
      "5500 101 dim 774 48 time 1945 lrate 0.0001 hidden 100 -1\n",
      "TRU: 'and (4) convenient to use, in the match-'\n",
      "OUT: 'and (-) convenient to use, in the match-'\n",
      "ALN: 'and (4) convenient to use, in the match-'\n",
      "1\n",
      "6000 275 dim 774 48 time 2123.17 lrate 0.0001 hidden 100 -1\n",
      "TRU: 'J. Microwave Power, vol. 18, pp. 325-329, Dec. 1983.'\n",
      "OUT: '7. AMicrowaue Power, vol 16, pp. 325-329, Dec 1983'\n",
      "ALN: 'J. Microwave Power, vol. 18, pp. 325-329, Dec. 1983.'\n",
      "7\n",
      "6500 347 dim 855 48 time 2294.88 lrate 0.0001 hidden 100 -1\n",
      "TRU: 'noise can be on-chip switching electronics which'\n",
      "OUT: 'noise can be on-chip switching electronics which'\n",
      "ALN: 'noise can be on-chip switching electronics which'\n",
      "0\n",
      "7000 243 dim 1147 48 time 2465.6 lrate 0.0001 hidden 100 -1\n",
      "TRU: 'vertices are designated and then the nonsurvivor vertices are'\n",
      "OUT: 'vertices are designated and then the nonsurvivor vertices are'\n",
      "ALN: 'vertices are designated and then the nonsurvivor vertices are'\n",
      "0\n",
      "7500 397 dim 986 48 time 2638.07 lrate 0.0001 hidden 100 -1\n",
      "TRU: 'When we use graph contraction to construct a pyramid, two'\n",
      "OUT: 'When we use graph contraction to construct a pyramid, tw'\n",
      "ALN: 'When we use graph contraction to construct a pyramid, two'\n",
      "1\n",
      "8000 1 dim 617 48 time 2807.62 lrate 0.0001 hidden 100 -1\n",
      "TRU: 'Encore GigaMax and Stanford Para-'\n",
      "OUT: 'Encore Gigalax and Stanford Para-'\n",
      "ALN: 'Encore GigaMMax and Stanford Para-'\n",
      "1\n",
      "8500 439 dim 791 48 time 2976.74 lrate 0.0001 hidden 100 -1\n",
      "TRU: 'Experimentation with these algorithms on'\n",
      "OUT: 'Experimentation with these algorithms on'\n",
      "ALN: 'Experimentation with these algorithms on'\n",
      "0\n",
      "9000 123 dim 652 48 time 3145.59 lrate 0.0001 hidden 100 -1\n",
      "TRU: '71. J. Piraux, ``A Theoretical Model'\n",
      "OUT: 'y.1. Piraux. ``A Theoretical Model'\n",
      "ALN: '71. .J. Piraux, ``A Theoretical Model'\n",
      "5\n",
      "9500 441 dim 1084 48 time 3317.03 lrate 0.0001 hidden 100 -1\n",
      "TRU: 'However, using view-based representations only solves'\n",
      "OUT: 'However, using view-based representations only solves'\n",
      "ALN: 'However, using view-based representations only solves'\n",
      "0\n",
      "saving test-00010000\n",
      "10000 467 dim 855 48 time 3487.54 lrate 0.0001 hidden 100 -1\n",
      "TRU: 'design rarely uses minimum size transistors, but is'\n",
      "OUT: 'design rarely uses minimum size transistors, but is'\n",
      "ALN: 'design rarely uses minimum size transistors, but is'\n",
      "0\n",
      "10500 49 dim 1398 48 time 3660.46 lrate 0.0001 hidden 100 -1\n",
      "TRU: 'Having specified our prior, we need now to consider the other probability dis-'\n",
      "OUT: 'Having specified our prior, we need now to consider the other probability dis-'\n",
      "ALN: 'Having specified our prior, we need now to consider the other probability dis-'\n",
      "0\n"
     ]
    }
   ],
   "source": [
    "!dewarp=center report_every=500 save_name=test save_every=10000 ntrain=11000 ../clstmctc uw3-500.h5"
   ]
  },
  {
   "cell_type": "code",
   "execution_count": null,
   "metadata": {
    "collapsed": true
   },
   "outputs": [],
   "source": []
  }
 ],
 "metadata": {
  "kernelspec": {
   "display_name": "Python 2",
   "language": "python",
   "name": "python2"
  },
  "language_info": {
   "codemirror_mode": {
    "name": "ipython",
    "version": 2
   },
   "file_extension": ".py",
   "mimetype": "text/x-python",
   "name": "python",
   "nbconvert_exporter": "python",
   "pygments_lexer": "ipython2",
   "version": "2.7.6"
  }
 },
 "nbformat": 4,
 "nbformat_minor": 0
}
