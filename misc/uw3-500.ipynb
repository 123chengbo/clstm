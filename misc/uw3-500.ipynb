{
 "cells": [
  {
   "cell_type": "code",
   "execution_count": 1,
   "metadata": {
    "collapsed": false
   },
   "outputs": [
    {
     "name": "stdout",
     "output_type": "stream",
     "text": [
      "Populating the interactive namespace from numpy and matplotlib\n"
     ]
    }
   ],
   "source": [
    "%pylab inline\n",
    "from pylab import *\n",
    "import h5py\n",
    "import codecs,string,os,sys,os.path,glob,re"
   ]
  },
  {
   "cell_type": "markdown",
   "metadata": {},
   "source": [
    "The CLSTM command line tools take their training data in HDF5 files (you will evenutally also be able to train directly from images saved on disk, as in ocropy, but that's not quite implemented yet). This illustrates how to store images into an HDF5 file and then how to run the `clstmctc` training tool on the data."
   ]
  },
  {
   "cell_type": "markdown",
   "metadata": {},
   "source": [
    "# The UW3-500 Dataset"
   ]
  },
  {
   "cell_type": "markdown",
   "metadata": {},
   "source": [
    "We illustrate loading data with the `uw3-500.tgz` dataset, available from `tmbdev.net`."
   ]
  },
  {
   "cell_type": "code",
   "execution_count": 2,
   "metadata": {
    "collapsed": false
   },
   "outputs": [],
   "source": [
    "!test -f uw3-500.tgz || wget -nd http://www.tmbdev.net/ocrdata/uw3-500.tgz"
   ]
  },
  {
   "cell_type": "markdown",
   "metadata": {},
   "source": [
    "Let's untar the file unless it has already been untarred."
   ]
  },
  {
   "cell_type": "code",
   "execution_count": 3,
   "metadata": {
    "collapsed": true
   },
   "outputs": [],
   "source": [
    "!test -d book || tar -zxvf uw3-500.tgz"
   ]
  },
  {
   "cell_type": "markdown",
   "metadata": {},
   "source": [
    "The UW3-500 dataset is a collection of text line images and corresponding ground truth transcription. It's organized as a directory tree of the form `book/<page_no>/<line_id>.bin.png` etc."
   ]
  },
  {
   "cell_type": "code",
   "execution_count": 4,
   "metadata": {
    "collapsed": false
   },
   "outputs": [
    {
     "name": "stdout",
     "output_type": "stream",
     "text": [
      "book/0005/010001.bin.png  book/0005/010001.gt.txt\r\n"
     ]
    }
   ],
   "source": [
    "!ls book/0005/010001.*"
   ]
  },
  {
   "cell_type": "markdown",
   "metadata": {},
   "source": [
    "# Codecs"
   ]
  },
  {
   "cell_type": "markdown",
   "metadata": {},
   "source": [
    "Let's start by computing the character set used by this training data."
   ]
  },
  {
   "cell_type": "code",
   "execution_count": 5,
   "metadata": {
    "collapsed": false
   },
   "outputs": [],
   "source": [
    "charset = set()\n",
    "for fname in glob.glob(\"book/*/*.txt\"):\n",
    "    with codecs.open(fname,\"r\",\"utf-8\") as stream:\n",
    "        chars = stream.read()\n",
    "    charset = charset.union(set(chars))"
   ]
  },
  {
   "cell_type": "markdown",
   "metadata": {},
   "source": [
    "We aren't recognizing newlines, but we need the NUL character for an epsilon transition during CTC training."
   ]
  },
  {
   "cell_type": "code",
   "execution_count": 6,
   "metadata": {
    "collapsed": false
   },
   "outputs": [],
   "source": [
    "charset.remove('\\n')\n",
    "charset.add('\\0')"
   ]
  },
  {
   "cell_type": "code",
   "execution_count": 7,
   "metadata": {
    "collapsed": false
   },
   "outputs": [
    {
     "name": "stdout",
     "output_type": "stream",
     "text": [
      "['\\x00', u' ', u'!', u'\"', u'$', u'%', u'&', u\"'\", u'(', u')', u',', u'-', u'.', u'/', u'0', u'1', u'2', u'3', u'4', u'5', u'6', u'7', u'8', u'9', u':', u';', u'<', u'=', u'A', u'B', u'C', u'D', u'E', u'F', u'G', u'H', u'I', u'J', u'K', u'L', u'M', u'N', u'O', u'P', u'Q', u'R', u'S', u'T', u'U', u'V', u'W', u'X', u'Y', u'Z', u'[', u']', u'`', u'a', u'b', u'c', u'd', u'e', u'f', u'g', u'h', u'i', u'j', u'k', u'l', u'm', u'n', u'o', u'p', u'q', u'r', u's', u't', u'u', u'v', u'w', u'x', u'y', u'z']\n"
     ]
    }
   ],
   "source": [
    "charset = sorted(list(charset))\n",
    "print charset"
   ]
  },
  {
   "cell_type": "markdown",
   "metadata": {},
   "source": [
    "In constructing the database, we store a codec; the codec maps class labels back to unicode codepoints."
   ]
  },
  {
   "cell_type": "code",
   "execution_count": 8,
   "metadata": {
    "collapsed": false
   },
   "outputs": [
    {
     "name": "stdout",
     "output_type": "stream",
     "text": [
      "[  0  32  33  34  36  37  38  39  40  41  44  45  46  47  48  49  50  51\n",
      "  52  53  54  55  56  57  58  59  60  61  65  66  67  68  69  70  71  72\n",
      "  73  74  75  76  77  78  79  80  81  82  83  84  85  86  87  88  89  90\n",
      "  91  93  96  97  98  99 100 101 102 103 104 105 106 107 108 109 110 111\n",
      " 112 113 114 115 116 117 118 119 120 121 122]\n"
     ]
    }
   ],
   "source": [
    "codec = array([ord(c) for c in charset],'i')\n",
    "encode = {c:i for i,c in enumerate(charset)}\n",
    "print codec"
   ]
  },
  {
   "cell_type": "markdown",
   "metadata": {},
   "source": [
    "# HDF5 Files"
   ]
  },
  {
   "cell_type": "markdown",
   "metadata": {},
   "source": [
    "We're using the `h5py` library to create and access HDF5 datafiles from Python. There is another library, `tables`, that you can also use."
   ]
  },
  {
   "cell_type": "code",
   "execution_count": 9,
   "metadata": {
    "collapsed": false
   },
   "outputs": [],
   "source": [
    "h5 = h5py.File(\"uw3-500.h5\", \"w\")"
   ]
  },
  {
   "cell_type": "markdown",
   "metadata": {},
   "source": [
    "Let's start by writing the codec; this is simply storing a fixed size array."
   ]
  },
  {
   "cell_type": "code",
   "execution_count": 10,
   "metadata": {
    "collapsed": false
   },
   "outputs": [],
   "source": [
    "h5.create_dataset(\"codec\", codec.shape, dtype=int)\n",
    "h5[\"codec\"][:] = codec"
   ]
  },
  {
   "cell_type": "markdown",
   "metadata": {},
   "source": [
    "Text line images and transcripts are variable length, so we need HDF5 variable length types. This is how that is done in h5py.\n",
    "\n",
    "Note that these types are not supported in older versions of `h5py`; the versions installed via `pip` seem to be up-to-date enough."
   ]
  },
  {
   "cell_type": "code",
   "execution_count": 11,
   "metadata": {
    "collapsed": false
   },
   "outputs": [],
   "source": [
    "vlen_int = h5py.special_dtype(vlen=np.dtype('int32'))\n",
    "vlen_float = h5py.special_dtype(vlen=np.dtype('float32'))\n",
    "vlen_str = h5py.special_dtype(vlen=str)"
   ]
  },
  {
   "cell_type": "markdown",
   "metadata": {},
   "source": [
    "The `images` dataset contains the image data, and the `images_dims` array contains the shape of those images (HDF5 doesn't have arrays of multidimensional variable-sized arrays, only arrays of variable-sized 1D arrays). If the images were all the same shape, we could simply store them as a resizable but otherwise rectangular array."
   ]
  },
  {
   "cell_type": "code",
   "execution_count": 12,
   "metadata": {
    "collapsed": false
   },
   "outputs": [],
   "source": [
    "images = h5.create_dataset(\"images\", (500,), maxshape=(None,), dtype=vlen_float)\n",
    "images_dims = h5.create_dataset(\"images_dims\", (500,2), maxshape=(None,2), dtype=int)"
   ]
  },
  {
   "cell_type": "markdown",
   "metadata": {},
   "source": [
    "The `transcripts` dataset contains integer arrays of class labels. Transcripts should never contain class `0` (which is reserved for epsilon in CTC). Since each transcript is just a 1D array, we need no separate `transcripts_dims` array."
   ]
  },
  {
   "cell_type": "code",
   "execution_count": 13,
   "metadata": {
    "collapsed": false
   },
   "outputs": [],
   "source": [
    "transcripts = h5.create_dataset(\"transcripts\", (500,), maxshape=(None,), dtype=vlen_int)"
   ]
  },
  {
   "cell_type": "markdown",
   "metadata": {},
   "source": [
    "The `keys` entry just holds information useful for identifying the source of training data."
   ]
  },
  {
   "cell_type": "code",
   "execution_count": 14,
   "metadata": {
    "collapsed": true
   },
   "outputs": [],
   "source": [
    "keys = h5.create_dataset(\"keys\", (500,), maxshape=(None,), dtype=vlen_str)"
   ]
  },
  {
   "cell_type": "markdown",
   "metadata": {},
   "source": [
    "Here is the data we store in the HDF5 file: the image and the transcripts."
   ]
  },
  {
   "cell_type": "code",
   "execution_count": 15,
   "metadata": {
    "collapsed": false
   },
   "outputs": [
    {
     "name": "stdout",
     "output_type": "stream",
     "text": [
      "performance analysis\n",
      "[72, 61, 74, 62, 71, 74, 69, 57, 70, 59, 61, 1, 57, 70, 57, 68, 81, 75, 65, 75]\n"
     ]
    },
    {
     "data": {
      "image/png": "[encoded data removed]",
      "text/plain": [
       "<matplotlib.figure.Figure at 0x7f1a3019bd90>"
      ]
     },
     "metadata": {},
     "output_type": "display_data"
    }
   ],
   "source": [
    "image = imread(\"book/0005/010001.bin.png\")\n",
    "image = 1-mean(image,2)\n",
    "with codecs.open(\"book/0005/010001.gt.txt\",\"r\",\"utf-8\") as stream: \n",
    "    gt = stream.read().strip()\n",
    "transcript = [encode[c] for c in gt]\n",
    "imshow(image,cmap=cm.gray)\n",
    "print gt\n",
    "print transcript"
   ]
  },
  {
   "cell_type": "markdown",
   "metadata": {},
   "source": [
    "Let's loop through the images we want to store. Note that store the _transpose_ of the image, since we want the sequence recognizer to step through the colums of the text line from left to right."
   ]
  },
  {
   "cell_type": "code",
   "execution_count": 16,
   "metadata": {
    "collapsed": false
   },
   "outputs": [
    {
     "name": "stdout",
     "output_type": "stream",
     "text": [
      "500\n"
     ]
    }
   ],
   "source": [
    "index = 0\n",
    "charset = set()\n",
    "for fname in sorted(glob.glob(\"book/*/*.bin.png\")):\n",
    "    gtname = re.sub(r'.bin.png$', '.gt.txt', fname)\n",
    "    with codecs.open(gtname,\"r\",\"utf-8\") as stream:\n",
    "        gt = stream.read().strip()\n",
    "    image = imread(fname)\n",
    "    image = 1-mean(image,2)\n",
    "    images[index] = image.T.ravel()\n",
    "    images_dims[index] = image.T.shape\n",
    "    transcript = [encode[c] for c in gt]\n",
    "    transcripts[index] = transcript\n",
    "    keys[index] = fname\n",
    "    index += 1\n",
    "print index"
   ]
  },
  {
   "cell_type": "markdown",
   "metadata": {},
   "source": [
    "That's it, we can close the dataset now."
   ]
  },
  {
   "cell_type": "code",
   "execution_count": 17,
   "metadata": {
    "collapsed": true
   },
   "outputs": [],
   "source": [
    "h5.close()"
   ]
  },
  {
   "cell_type": "markdown",
   "metadata": {},
   "source": [
    "There are a number of command line tools for checking our work."
   ]
  },
  {
   "cell_type": "code",
   "execution_count": 18,
   "metadata": {
    "collapsed": false
   },
   "outputs": [
    {
     "name": "stdout",
     "output_type": "stream",
     "text": [
      "codec                    Dataset {83}\r\n",
      "images                   Dataset {500/Inf}\r\n",
      "images_dims              Dataset {500/Inf, 2}\r\n",
      "keys                     Dataset {500/Inf}\r\n",
      "transcripts              Dataset {500/Inf}\r\n"
     ]
    }
   ],
   "source": [
    "!h5ls uw3-500.h5"
   ]
  },
  {
   "cell_type": "markdown",
   "metadata": {},
   "source": [
    "# Reading HDF5 Training Files"
   ]
  },
  {
   "cell_type": "markdown",
   "metadata": {},
   "source": [
    "The code below shows how to read the training files we created above."
   ]
  },
  {
   "cell_type": "code",
   "execution_count": 19,
   "metadata": {
    "collapsed": true
   },
   "outputs": [],
   "source": [
    "h5 = h5py.File(\"uw3-500.h5\", \"r\")"
   ]
  },
  {
   "cell_type": "code",
   "execution_count": 20,
   "metadata": {
    "collapsed": false
   },
   "outputs": [
    {
     "data": {
      "text/plain": [
       "<matplotlib.image.AxesImage at 0x7f1a30116f90>"
      ]
     },
     "execution_count": 20,
     "metadata": {},
     "output_type": "execute_result"
    },
    {
     "data": {
      "image/png": "[encoded data removed]",
      "text/plain": [
       "<matplotlib.figure.Figure at 0x7f1a2985e350>"
      ]
     },
     "metadata": {},
     "output_type": "display_data"
    }
   ],
   "source": [
    "imshow(h5[\"images\"][0].reshape(*h5[\"images_dims\"][0]).T,cmap=cm.gray)"
   ]
  },
  {
   "cell_type": "code",
   "execution_count": 21,
   "metadata": {
    "collapsed": false
   },
   "outputs": [
    {
     "name": "stdout",
     "output_type": "stream",
     "text": [
      "book/0005/010001.bin.png\n"
     ]
    }
   ],
   "source": [
    "print h5[\"keys\"][0]"
   ]
  },
  {
   "cell_type": "code",
   "execution_count": 22,
   "metadata": {
    "collapsed": false
   },
   "outputs": [
    {
     "name": "stdout",
     "output_type": "stream",
     "text": [
      "['p', 'e', 'r', 'f', 'o', 'r', 'm', 'a', 'n', 'c', 'e', ' ', 'a', 'n', 'a', 'l', 'y', 's', 'i', 's']\n"
     ]
    }
   ],
   "source": [
    "print [chr(h5[\"codec\"][x]) for x  in h5[\"transcripts\"][0]]"
   ]
  },
  {
   "cell_type": "code",
   "execution_count": 23,
   "metadata": {
    "collapsed": true
   },
   "outputs": [],
   "source": [
    "h5.close()"
   ]
  },
  {
   "cell_type": "markdown",
   "metadata": {},
   "source": [
    "# CLSTM training"
   ]
  },
  {
   "cell_type": "markdown",
   "metadata": {},
   "source": [
    "Let's build the CLSTM library and command line tools."
   ]
  },
  {
   "cell_type": "code",
   "execution_count": 24,
   "metadata": {
    "collapsed": false
   },
   "outputs": [
    {
     "name": "stdout",
     "output_type": "stream",
     "text": [
      "scons: Reading SConscript files ...\n",
      "scons: done reading SConscript files.\n",
      "scons: Building targets ...\n",
      "scons: `.' is up to date.\n",
      "scons: done building targets.\n"
     ]
    }
   ],
   "source": [
    "!(cd .. && scons)"
   ]
  },
  {
   "cell_type": "markdown",
   "metadata": {},
   "source": [
    "Let's now run `clstmctc` training. We report every 100 training steps. Since we didn't dewarp or size-normalize the lines, we need to use a `dewarp=center` argument to training."
   ]
  },
  {
   "cell_type": "code",
   "execution_count": 25,
   "metadata": {
    "collapsed": false
   },
   "outputs": [
    {
     "name": "stdout",
     "output_type": "stream",
     "text": [
      "params hg_version 24ef93a1ba1b+ lrate 0.0001 nhidden 100 nhidden2 -1 pseudo_batch 1 momentum 0.9 type BIDILSTM LSTM SoftmaxLayer\n",
      "center_normalizer 4 1 0.3\n",
      "dataset 500 48 center\n",
      "0 41 dim 825 48 time 0.0219018 lrate 0.0001 hidden 100 -1\n",
      "TRU: 'a silicon substrate. The solid line represents'\n",
      "OUT: ''\n",
      "ALN: ''\n",
      "46\n",
      "500 429 dim 469 48 time 167.932 lrate 0.0001 hidden 100 -1\n",
      "TRU: 'Meeting, pages 931-935, 1986.'\n",
      "OUT: '  e   n eee             '\n",
      "ALN: 'Meettin, ,apages 93-3, 196.'\n",
      "24\n",
      "1000 297 dim 888 48 time 327.709 lrate 0.0001 hidden 100 -1\n",
      "TRU: '[49] A.G. Hauptmann and B.F. Green. A comparison of'\n",
      "OUT: 'l   l   ll enn nn ennnnnnn  llll lleenn  eennnnnnean nennei '\n",
      "ALN: '[49]]AAA.G.. Haaupptmannnn aann BB.F. Grrreennn. commpaaarrrissonn off'\n",
      "47\n",
      "1500 345 dim 828 48 time 482.248 lrate 0.0001 hidden 100 -1\n",
      "TRU: 'in a completely parallel manner to acquire a frame of'\n",
      "OUT: 'in aoonnrletels rar lle lnnnarnertoacounire   annne o '\n",
      "ALN: 'in acommpletely parallel mmanner to acquuire aframmme of'\n",
      "27\n",
      "2000 269 dim 970 48 time 661.407 lrate 0.0001 hidden 100 -1\n",
      "TRU: 'The irregular sampling hierarchy is thus built recursively from'\n",
      "OUT: 'The irreaalar sannpling hierarchy isthusbuiltrecursioely fron'\n",
      "ALN: 'The irregular sampling hierarchy is thusbuilt recursively from'\n",
      "22\n",
      "2500 71 dim 556 48 time 835.607 lrate 0.0001 hidden 100 -1\n",
      "TRU: 'seek access to aggregated patient'\n",
      "OUT: 'seek accessto utcguted patient'\n",
      "ALN: 'seek access to aggggregated patient'\n",
      "7\n",
      "3000 453 dim 829 48 time 1014.21 lrate 0.0001 hidden 100 -1\n",
      "TRU: 'buildings using stereo analysis together with'\n",
      "OUT: 'buildings using stereo analysis together with'\n",
      "ALN: 'buildings using stereo analysis together with'\n",
      "0\n",
      "3500 439 dim 791 48 time 1193.96 lrate 0.0001 hidden 100 -1\n",
      "TRU: 'Experimentation with these algorithms on'\n",
      "OUT: 'kxperimentation with these algorithms on'\n",
      "ALN: 'Experimentation with these algorithms on'\n",
      "1\n",
      "4000 243 dim 1147 48 time 1386.49 lrate 0.0001 hidden 100 -1\n",
      "TRU: 'vertices are designated and then the nonsurvivor vertices are'\n",
      "OUT: 'vertices are designated and then the nonsurvivor vertices are'\n",
      "ALN: 'vertices are designated and then the nonsurvivor vertices are'\n",
      "0\n",
      "4500 47 dim 649 48 time 1590.83 lrate 0.0001 hidden 100 -1\n",
      "TRU: 'shows the energy levels that the dihy-'\n",
      "OUT: 'shows the energy levels that the dihy-'\n",
      "ALN: 'shows the energy levels that the dihy-'\n",
      "0\n",
      "5000 343 dim 720 48 time 1778.76 lrate 0.0001 hidden 100 -1\n",
      "TRU: 'Mapping and Spatial Modelling for'\n",
      "OUT: 'AMapning and Spanial AModelling for'\n",
      "ALN: 'Mapping and Spatial Modelling for'\n",
      "4\n",
      "5500 133 dim 1102 48 time 1999.58 lrate 0.0001 hidden 100 -1\n",
      "TRU: 'is discarded due to the fact that it is identi-'\n",
      "OUT: 'is discarded due to the fact that it is identd1e'\n",
      "ALN: 'is discarded due to the fact that it is identii-'\n",
      "3\n",
      "6000 343 dim 720 48 time 2219.64 lrate 0.0001 hidden 100 -1\n",
      "TRU: 'Mapping and Spatial Modelling for'\n",
      "OUT: 'Mapring and Spatial Modelling for'\n",
      "ALN: 'Mapping and Spatial Modelling for'\n",
      "1\n",
      "6500 9 dim 956 48 time 2436.92 lrate 0.0001 hidden 100 -1\n",
      "TRU: 'duction heating time. Using the as-rolled steel, induc-'\n",
      "OUT: 'duction heating time. Using the as-rolled steel, induc-'\n",
      "ALN: 'duction heating time. Using the as-rolled steel, induc-'\n",
      "0\n",
      "7000 467 dim 855 48 time 2628.18 lrate 0.0001 hidden 100 -1\n",
      "TRU: 'design rarely uses minimum size transistors, but is'\n",
      "OUT: 'design rarely uses minimum size transistors, but is'\n",
      "ALN: 'design rarely uses minimum size transistors, but is'\n",
      "0\n",
      "7500 145 dim 1308 48 time 2809.77 lrate 0.0001 hidden 100 -1\n",
      "TRU: 'analysis of the expanded program is obtained by combining the'\n",
      "OUT: 'analysis of the epxpanded program is obtained by comoining the'\n",
      "ALN: 'analysis of the expanded program is obtained by combining the'\n",
      "2\n",
      "8000 435 dim 1028 48 time 2991.28 lrate 0.0001 hidden 100 -1\n",
      "TRU: 'ever, to the extent that some scene features are copla-'\n",
      "OUT: 'ever, to the extent that some scene features are copla-'\n",
      "ALN: 'ever, to the extent that some scene features are copla-'\n",
      "0\n",
      "8500 383 dim 794 48 time 3182.45 lrate 0.0001 hidden 100 -1\n",
      "TRU: 'produced by our page segmentation algo-'\n",
      "OUT: 'produced by our page segmnentation algo-'\n",
      "ALN: 'produced by our page segmentation algo-'\n",
      "1\n",
      "9000 19 dim 1536 48 time 3351.24 lrate 0.0001 hidden 100 -1\n",
      "TRU: 'during footing penetration was visually observed by monitoring the deformation of a'\n",
      "OUT: 'during footing penetration was visually observed by monitoring the deformation of a'\n",
      "ALN: 'during footing penetration was visually observed by monitoring the deformation of a'\n",
      "0\n",
      "9500 31 dim 260 48 time 3524.92 lrate 0.0001 hidden 100 -1\n",
      "TRU: 'R. B. Misra, Ph.D'\n",
      "OUT: '. . Misra. Ph.D'\n",
      "ALN: 'R. B. Misra, Ph.D'\n",
      "3\n",
      "saving test-00010000\n",
      "10000 427 dim 881 48 time 3704.93 lrate 0.0001 hidden 100 -1\n",
      "TRU: 'by image analysis systems using this model as the'\n",
      "OUT: 'by image analysis systems using this model as the'\n",
      "ALN: 'by image analysis systems using this model as the'\n",
      "0\n",
      "10500 65 dim 799 48 time 3887.25 lrate 0.0001 hidden 100 -1\n",
      "TRU: 'that if you solve the problem most efficiently,'\n",
      "OUT: 'that if you solve the problem most efficiently,'\n",
      "ALN: 'that if you solve the problem most efficiently,'\n",
      "0\n"
     ]
    }
   ],
   "source": [
    "!dewarp=center report_every=500 save_name=test save_every=10000 ntrain=11000 ../clstmctc uw3-500.h5"
   ]
  }
 ],
 "metadata": {
  "kernelspec": {
   "display_name": "Python 2",
   "language": "python",
   "name": "python2"
  },
  "language_info": {
   "codemirror_mode": {
    "name": "ipython",
    "version": 2
   },
   "file_extension": ".py",
   "mimetype": "text/x-python",
   "name": "python",
   "nbconvert_exporter": "python",
   "pygments_lexer": "ipython2",
   "version": "2.7.8"
  }
 },
 "nbformat": 4,
 "nbformat_minor": 0
}
